{
  "nbformat": 4,
  "nbformat_minor": 0,
  "metadata": {
    "colab": {
      "provenance": [],
      "authorship_tag": "ABX9TyO5j3rftiCrvF5zvclTWn4S",
      "include_colab_link": true
    },
    "kernelspec": {
      "name": "python3",
      "display_name": "Python 3"
    },
    "language_info": {
      "name": "python"
    }
  },
  "cells": [
    {
      "cell_type": "markdown",
      "metadata": {
        "id": "view-in-github",
        "colab_type": "text"
      },
      "source": [
        "<a href=\"https://colab.research.google.com/github/KevinTheRainmaker/TF_for_Use/blob/main/01_1_Pipeline_in_ScikitLearn.ipynb\" target=\"_parent\"><img src=\"https://colab.research.google.com/assets/colab-badge.svg\" alt=\"Open In Colab\"/></a>"
      ]
    },
    {
      "cell_type": "markdown",
      "source": [
        "# Scikit-Learn에서 ML Pipeline 사용해보기"
      ],
      "metadata": {
        "id": "torC-hWm9G60"
      }
    },
    {
      "cell_type": "markdown",
      "source": [
        "## 데이터 다운로드\n",
        "https://drive.google.com/file/d/1TacCG3D2PcFKAjwHFniap5UiWNiGN_Ay/view?usp=share_link"
      ],
      "metadata": {
        "id": "ag2IuQnW6Ek4"
      }
    },
    {
      "cell_type": "code",
      "source": [
        "data_path = '/content/bands.csv'"
      ],
      "metadata": {
        "id": "3Xy-wFHc6RCQ"
      },
      "execution_count": 1,
      "outputs": []
    },
    {
      "cell_type": "code",
      "execution_count": 2,
      "metadata": {
        "id": "B2VAktMw49cJ"
      },
      "outputs": [],
      "source": [
        "import pandas as pd\n",
        "from sklearn.model_selection import train_test_split"
      ]
    },
    {
      "cell_type": "code",
      "source": [
        "# data load\n",
        "df = pd.read_csv(data_path)\n",
        "df[13:18]"
      ],
      "metadata": {
        "colab": {
          "base_uri": "https://localhost:8080/",
          "height": 206
        },
        "id": "2LN0YT6F6Ztj",
        "outputId": "d868eba5-0c2b-4333-f5c5-d25a2d3eaada"
      },
      "execution_count": 9,
      "outputs": [
        {
          "output_type": "execute_result",
          "data": {
            "text/plain": [
              "      x1    x2     x3    x4    x5     x6    x7    x8      x9   x10   x11  x12  \\\n",
              "13  40.0  45.0  0.300  14.5  70.0  0.625  25.0   0.0  1500.0  59.5  40.5  0.0   \n",
              "14  50.0  43.0  0.267  16.0  75.0  1.000  20.0  15.8  1600.0  49.5  34.7  0.0   \n",
              "15   NaN  45.0  0.233  15.0  87.0  1.000   NaN   0.0  1400.0  62.5  37.5  0.0   \n",
              "16  30.0  45.0  0.200  14.0  65.0    NaN   NaN   0.0  1600.0  62.5  37.5  0.0   \n",
              "17  30.0  45.0  0.200  15.5  65.0    NaN   NaN   5.9  1600.0  58.8  35.3  0.0   \n",
              "\n",
              "    x13  x14  x15   x16   x17     x18    x19  y  \n",
              "13  0.0  2.0  1.0  40.0  40.0  100.00  100.0  0  \n",
              "14  0.0  2.5  1.0  38.0  40.0  103.22  100.0  1  \n",
              "15  0.0  2.5  1.0  40.0  40.0  103.22  100.0  0  \n",
              "16  0.0  2.5  0.8  33.0  40.0  100.00  100.0  1  \n",
              "17  0.0  2.5  1.8  33.0  40.0  100.00  100.0  1  "
            ],
            "text/html": [
              "\n",
              "  <div id=\"df-e93ee054-4f22-4c47-81a6-eae93cd549d5\">\n",
              "    <div class=\"colab-df-container\">\n",
              "      <div>\n",
              "<style scoped>\n",
              "    .dataframe tbody tr th:only-of-type {\n",
              "        vertical-align: middle;\n",
              "    }\n",
              "\n",
              "    .dataframe tbody tr th {\n",
              "        vertical-align: top;\n",
              "    }\n",
              "\n",
              "    .dataframe thead th {\n",
              "        text-align: right;\n",
              "    }\n",
              "</style>\n",
              "<table border=\"1\" class=\"dataframe\">\n",
              "  <thead>\n",
              "    <tr style=\"text-align: right;\">\n",
              "      <th></th>\n",
              "      <th>x1</th>\n",
              "      <th>x2</th>\n",
              "      <th>x3</th>\n",
              "      <th>x4</th>\n",
              "      <th>x5</th>\n",
              "      <th>x6</th>\n",
              "      <th>x7</th>\n",
              "      <th>x8</th>\n",
              "      <th>x9</th>\n",
              "      <th>x10</th>\n",
              "      <th>x11</th>\n",
              "      <th>x12</th>\n",
              "      <th>x13</th>\n",
              "      <th>x14</th>\n",
              "      <th>x15</th>\n",
              "      <th>x16</th>\n",
              "      <th>x17</th>\n",
              "      <th>x18</th>\n",
              "      <th>x19</th>\n",
              "      <th>y</th>\n",
              "    </tr>\n",
              "  </thead>\n",
              "  <tbody>\n",
              "    <tr>\n",
              "      <th>13</th>\n",
              "      <td>40.0</td>\n",
              "      <td>45.0</td>\n",
              "      <td>0.300</td>\n",
              "      <td>14.5</td>\n",
              "      <td>70.0</td>\n",
              "      <td>0.625</td>\n",
              "      <td>25.0</td>\n",
              "      <td>0.0</td>\n",
              "      <td>1500.0</td>\n",
              "      <td>59.5</td>\n",
              "      <td>40.5</td>\n",
              "      <td>0.0</td>\n",
              "      <td>0.0</td>\n",
              "      <td>2.0</td>\n",
              "      <td>1.0</td>\n",
              "      <td>40.0</td>\n",
              "      <td>40.0</td>\n",
              "      <td>100.00</td>\n",
              "      <td>100.0</td>\n",
              "      <td>0</td>\n",
              "    </tr>\n",
              "    <tr>\n",
              "      <th>14</th>\n",
              "      <td>50.0</td>\n",
              "      <td>43.0</td>\n",
              "      <td>0.267</td>\n",
              "      <td>16.0</td>\n",
              "      <td>75.0</td>\n",
              "      <td>1.000</td>\n",
              "      <td>20.0</td>\n",
              "      <td>15.8</td>\n",
              "      <td>1600.0</td>\n",
              "      <td>49.5</td>\n",
              "      <td>34.7</td>\n",
              "      <td>0.0</td>\n",
              "      <td>0.0</td>\n",
              "      <td>2.5</td>\n",
              "      <td>1.0</td>\n",
              "      <td>38.0</td>\n",
              "      <td>40.0</td>\n",
              "      <td>103.22</td>\n",
              "      <td>100.0</td>\n",
              "      <td>1</td>\n",
              "    </tr>\n",
              "    <tr>\n",
              "      <th>15</th>\n",
              "      <td>NaN</td>\n",
              "      <td>45.0</td>\n",
              "      <td>0.233</td>\n",
              "      <td>15.0</td>\n",
              "      <td>87.0</td>\n",
              "      <td>1.000</td>\n",
              "      <td>NaN</td>\n",
              "      <td>0.0</td>\n",
              "      <td>1400.0</td>\n",
              "      <td>62.5</td>\n",
              "      <td>37.5</td>\n",
              "      <td>0.0</td>\n",
              "      <td>0.0</td>\n",
              "      <td>2.5</td>\n",
              "      <td>1.0</td>\n",
              "      <td>40.0</td>\n",
              "      <td>40.0</td>\n",
              "      <td>103.22</td>\n",
              "      <td>100.0</td>\n",
              "      <td>0</td>\n",
              "    </tr>\n",
              "    <tr>\n",
              "      <th>16</th>\n",
              "      <td>30.0</td>\n",
              "      <td>45.0</td>\n",
              "      <td>0.200</td>\n",
              "      <td>14.0</td>\n",
              "      <td>65.0</td>\n",
              "      <td>NaN</td>\n",
              "      <td>NaN</td>\n",
              "      <td>0.0</td>\n",
              "      <td>1600.0</td>\n",
              "      <td>62.5</td>\n",
              "      <td>37.5</td>\n",
              "      <td>0.0</td>\n",
              "      <td>0.0</td>\n",
              "      <td>2.5</td>\n",
              "      <td>0.8</td>\n",
              "      <td>33.0</td>\n",
              "      <td>40.0</td>\n",
              "      <td>100.00</td>\n",
              "      <td>100.0</td>\n",
              "      <td>1</td>\n",
              "    </tr>\n",
              "    <tr>\n",
              "      <th>17</th>\n",
              "      <td>30.0</td>\n",
              "      <td>45.0</td>\n",
              "      <td>0.200</td>\n",
              "      <td>15.5</td>\n",
              "      <td>65.0</td>\n",
              "      <td>NaN</td>\n",
              "      <td>NaN</td>\n",
              "      <td>5.9</td>\n",
              "      <td>1600.0</td>\n",
              "      <td>58.8</td>\n",
              "      <td>35.3</td>\n",
              "      <td>0.0</td>\n",
              "      <td>0.0</td>\n",
              "      <td>2.5</td>\n",
              "      <td>1.8</td>\n",
              "      <td>33.0</td>\n",
              "      <td>40.0</td>\n",
              "      <td>100.00</td>\n",
              "      <td>100.0</td>\n",
              "      <td>1</td>\n",
              "    </tr>\n",
              "  </tbody>\n",
              "</table>\n",
              "</div>\n",
              "      <button class=\"colab-df-convert\" onclick=\"convertToInteractive('df-e93ee054-4f22-4c47-81a6-eae93cd549d5')\"\n",
              "              title=\"Convert this dataframe to an interactive table.\"\n",
              "              style=\"display:none;\">\n",
              "        \n",
              "  <svg xmlns=\"http://www.w3.org/2000/svg\" height=\"24px\"viewBox=\"0 0 24 24\"\n",
              "       width=\"24px\">\n",
              "    <path d=\"M0 0h24v24H0V0z\" fill=\"none\"/>\n",
              "    <path d=\"M18.56 5.44l.94 2.06.94-2.06 2.06-.94-2.06-.94-.94-2.06-.94 2.06-2.06.94zm-11 1L8.5 8.5l.94-2.06 2.06-.94-2.06-.94L8.5 2.5l-.94 2.06-2.06.94zm10 10l.94 2.06.94-2.06 2.06-.94-2.06-.94-.94-2.06-.94 2.06-2.06.94z\"/><path d=\"M17.41 7.96l-1.37-1.37c-.4-.4-.92-.59-1.43-.59-.52 0-1.04.2-1.43.59L10.3 9.45l-7.72 7.72c-.78.78-.78 2.05 0 2.83L4 21.41c.39.39.9.59 1.41.59.51 0 1.02-.2 1.41-.59l7.78-7.78 2.81-2.81c.8-.78.8-2.07 0-2.86zM5.41 20L4 18.59l7.72-7.72 1.47 1.35L5.41 20z\"/>\n",
              "  </svg>\n",
              "      </button>\n",
              "      \n",
              "  <style>\n",
              "    .colab-df-container {\n",
              "      display:flex;\n",
              "      flex-wrap:wrap;\n",
              "      gap: 12px;\n",
              "    }\n",
              "\n",
              "    .colab-df-convert {\n",
              "      background-color: #E8F0FE;\n",
              "      border: none;\n",
              "      border-radius: 50%;\n",
              "      cursor: pointer;\n",
              "      display: none;\n",
              "      fill: #1967D2;\n",
              "      height: 32px;\n",
              "      padding: 0 0 0 0;\n",
              "      width: 32px;\n",
              "    }\n",
              "\n",
              "    .colab-df-convert:hover {\n",
              "      background-color: #E2EBFA;\n",
              "      box-shadow: 0px 1px 2px rgba(60, 64, 67, 0.3), 0px 1px 3px 1px rgba(60, 64, 67, 0.15);\n",
              "      fill: #174EA6;\n",
              "    }\n",
              "\n",
              "    [theme=dark] .colab-df-convert {\n",
              "      background-color: #3B4455;\n",
              "      fill: #D2E3FC;\n",
              "    }\n",
              "\n",
              "    [theme=dark] .colab-df-convert:hover {\n",
              "      background-color: #434B5C;\n",
              "      box-shadow: 0px 1px 3px 1px rgba(0, 0, 0, 0.15);\n",
              "      filter: drop-shadow(0px 1px 2px rgba(0, 0, 0, 0.3));\n",
              "      fill: #FFFFFF;\n",
              "    }\n",
              "  </style>\n",
              "\n",
              "      <script>\n",
              "        const buttonEl =\n",
              "          document.querySelector('#df-e93ee054-4f22-4c47-81a6-eae93cd549d5 button.colab-df-convert');\n",
              "        buttonEl.style.display =\n",
              "          google.colab.kernel.accessAllowed ? 'block' : 'none';\n",
              "\n",
              "        async function convertToInteractive(key) {\n",
              "          const element = document.querySelector('#df-e93ee054-4f22-4c47-81a6-eae93cd549d5');\n",
              "          const dataTable =\n",
              "            await google.colab.kernel.invokeFunction('convertToInteractive',\n",
              "                                                     [key], {});\n",
              "          if (!dataTable) return;\n",
              "\n",
              "          const docLinkHtml = 'Like what you see? Visit the ' +\n",
              "            '<a target=\"_blank\" href=https://colab.research.google.com/notebooks/data_table.ipynb>data table notebook</a>'\n",
              "            + ' to learn more about interactive tables.';\n",
              "          element.innerHTML = '';\n",
              "          dataTable['output_type'] = 'display_data';\n",
              "          await google.colab.output.renderOutput(dataTable, element);\n",
              "          const docLink = document.createElement('div');\n",
              "          docLink.innerHTML = docLinkHtml;\n",
              "          element.appendChild(docLink);\n",
              "        }\n",
              "      </script>\n",
              "    </div>\n",
              "  </div>\n",
              "  "
            ]
          },
          "metadata": {},
          "execution_count": 9
        }
      ]
    },
    {
      "cell_type": "code",
      "source": [
        "# for supervised learning\n",
        "X = df.drop('y', axis=1)\n",
        "y = df['y']\n",
        "\n",
        "X_train, X_test, y_train, y_test = train_test_split(X, y, random_state=2023)\n",
        "\n",
        "print(X_train.head())\n",
        "print(y_train.head())"
      ],
      "metadata": {
        "colab": {
          "base_uri": "https://localhost:8080/"
        },
        "id": "edNyazHg6fsz",
        "outputId": "185741a8-88c1-4d8f-bf24-5002f191b165"
      },
      "execution_count": 14,
      "outputs": [
        {
          "output_type": "stream",
          "name": "stdout",
          "text": [
            "       x1    x2     x3    x4    x5     x6    x7    x8      x9   x10   x11  \\\n",
            "473  40.0  49.0  0.300  17.0  75.0  0.625  30.0   0.0  1600.0  58.8  41.2   \n",
            "427  30.0  41.0  0.333  15.5  74.0  0.812  30.0   2.5  1900.0  58.0  39.5   \n",
            "183  55.0  54.0  0.267  15.0  70.0  0.625  60.0   3.4  1600.0  56.8  39.8   \n",
            "440  45.0  58.0  0.200  15.0  72.0  0.625  25.0  10.5  2100.0  52.6  36.8   \n",
            "524   NaN  56.0  0.300  14.0  91.0  1.125  27.0   NaN  1650.0   NaN   NaN   \n",
            "\n",
            "     x12  x13  x14   x15   x16   x17      x18    x19  \n",
            "473  0.0  0.0  2.5  0.65  33.0  40.0  109.600  100.0  \n",
            "427  4.5  0.0  1.9  1.30  30.0  40.0  114.280  100.0  \n",
            "183  0.0  0.0  1.0  0.40  45.0  40.0  103.300  100.0  \n",
            "440  5.0  0.0  2.5  0.80  33.0  40.0  103.125  100.0  \n",
            "524  NaN  NaN  3.0  1.50   NaN  40.0  100.000   95.0  \n",
            "473    0\n",
            "427    1\n",
            "183    1\n",
            "440    1\n",
            "524    0\n",
            "Name: y, dtype: int64\n"
          ]
        }
      ]
    },
    {
      "cell_type": "code",
      "source": [
        "# define imputer, scaler, classification model\n",
        "from sklearn.impute import SimpleImputer\n",
        "from sklearn.preprocessing import MinMaxScaler\n",
        "from sklearn.svm import SVC\n",
        "\n",
        "imputer = SimpleImputer()\n",
        "scaler = MinMaxScaler()\n",
        "model = SVC()"
      ],
      "metadata": {
        "id": "HtwA77Fv7O3K"
      },
      "execution_count": 15,
      "outputs": []
    },
    {
      "cell_type": "code",
      "source": [
        "# create pipeline\n",
        "from sklearn.pipeline import Pipeline\n",
        "P = Pipeline([('imputer', imputer), ('scaler', scaler), ('model', model)])"
      ],
      "metadata": {
        "id": "vDH1kDpa75-Y"
      },
      "execution_count": 16,
      "outputs": []
    },
    {
      "cell_type": "code",
      "source": [
        "# train Pipeline with data\n",
        "P.fit(X_train, y_train)"
      ],
      "metadata": {
        "colab": {
          "base_uri": "https://localhost:8080/"
        },
        "id": "g26g45zf8OhO",
        "outputId": "8c209a64-7df0-4201-c133-eb4f427e4503"
      },
      "execution_count": 17,
      "outputs": [
        {
          "output_type": "execute_result",
          "data": {
            "text/plain": [
              "Pipeline(steps=[('imputer', SimpleImputer()), ('scaler', MinMaxScaler()),\n",
              "                ('model', SVC())])"
            ]
          },
          "metadata": {},
          "execution_count": 17
        }
      ]
    },
    {
      "cell_type": "code",
      "source": [
        "# predict with trained pipeline\n",
        "display(P.predict(X_test))"
      ],
      "metadata": {
        "colab": {
          "base_uri": "https://localhost:8080/",
          "height": 139
        },
        "id": "A_SV11Jq8X-o",
        "outputId": "9a972a50-0616-4637-cc16-68ab4ba19409"
      },
      "execution_count": 18,
      "outputs": [
        {
          "output_type": "display_data",
          "data": {
            "text/plain": [
              "array([1, 1, 0, 1, 0, 1, 0, 1, 1, 1, 0, 1, 1, 0, 0, 1, 1, 1, 1, 1, 1, 1,\n",
              "       1, 0, 1, 1, 1, 1, 1, 1, 0, 1, 1, 1, 0, 1, 1, 1, 1, 1, 1, 1, 1, 0,\n",
              "       1, 0, 1, 1, 1, 1, 1, 1, 1, 1, 1, 1, 1, 0, 1, 1, 1, 1, 1, 0, 1, 1,\n",
              "       1, 1, 1, 0, 1, 0, 1, 1, 1, 0, 0, 0, 1, 1, 1, 1, 1, 0, 1, 0, 1, 1,\n",
              "       1, 0, 1, 1, 0, 1, 1, 1, 1, 1, 1, 1, 1, 0, 1, 1, 1, 1, 1, 1, 1, 1,\n",
              "       0, 1, 1, 1, 1, 1, 1, 1, 1, 0, 1, 1, 1, 0, 1, 1, 1, 0, 1, 1, 1, 1,\n",
              "       1, 0, 1])"
            ]
          },
          "metadata": {}
        }
      ]
    },
    {
      "cell_type": "markdown",
      "source": [
        "### 전처리 파이프라인"
      ],
      "metadata": {
        "id": "ikIuUnMn80gb"
      }
    },
    {
      "cell_type": "code",
      "source": [
        "P = Pipeline([('imputer', imputer), ('scaler', scaler)])\n",
        "P.fit(X_train, y_train)\n",
        "display(P.transform(X_test)[0])"
      ],
      "metadata": {
        "colab": {
          "base_uri": "https://localhost:8080/",
          "height": 86
        },
        "id": "2ay_msSA8kk-",
        "outputId": "643b0884-6254-4207-b914-feffe3984932"
      },
      "execution_count": 19,
      "outputs": [
        {
          "output_type": "display_data",
          "data": {
            "text/plain": [
              "array([0.52631579, 0.27027027, 0.585     , 0.        , 0.27083333,\n",
              "       0.58123953, 0.81481481, 0.        , 0.63461538, 0.53481894,\n",
              "       0.56687898, 0.09375   , 0.        , 0.96774194, 0.33333333,\n",
              "       0.375     , 0.66666667, 0.57618772, 1.        ])"
            ]
          },
          "metadata": {}
        }
      ]
    },
    {
      "cell_type": "markdown",
      "source": [
        "## 파이프라인 커스터마이징"
      ],
      "metadata": {
        "id": "BQ5GNI9Q9OuB"
      }
    },
    {
      "cell_type": "markdown",
      "source": [
        "Pipeline 클래스의 단점\n",
        "\n",
        "1. 사이킷런의 인스턴스가 아닌 다른 클래스의 인스턴스가 포함될 경우 정상적으로 동작하지 않을 수 있음\n",
        "2. 하이퍼파라미터 튜닝 등을 할 때 전체 파이프라인 지속적으로 수정해야 함\n",
        "\n",
        "--> 직접 함수나 클래스 형태로 커스터마이즈하여 사용하는 것이 바람직함"
      ],
      "metadata": {
        "id": "GnVdpQ8G9jQH"
      }
    },
    {
      "cell_type": "code",
      "source": [
        "X_train = imputer.fit_transform(X_train)\n",
        "X_train = scaler.fit_transform(X_train)\n",
        "model.fit(X_train, y_train)"
      ],
      "metadata": {
        "colab": {
          "base_uri": "https://localhost:8080/"
        },
        "id": "2cdm5yzS9ARm",
        "outputId": "37b6b17b-966f-4fc3-c6a2-2018bb637577"
      },
      "execution_count": 20,
      "outputs": [
        {
          "output_type": "execute_result",
          "data": {
            "text/plain": [
              "SVC()"
            ]
          },
          "metadata": {},
          "execution_count": 20
        }
      ]
    },
    {
      "cell_type": "code",
      "source": [
        "def my_pipeline(X, imputer, scaler, model):\n",
        "  X = imputer.transform(X)\n",
        "  X = scaler.transform(X)\n",
        "  pred = model.predict(X)\n",
        "\n",
        "  return pred"
      ],
      "metadata": {
        "id": "oOIPdhCt-TFg"
      },
      "execution_count": 21,
      "outputs": []
    },
    {
      "cell_type": "code",
      "source": [
        "y = my_pipeline(X_test, imputer, scaler, model)\n",
        "display(y[:5])"
      ],
      "metadata": {
        "colab": {
          "base_uri": "https://localhost:8080/",
          "height": 34
        },
        "id": "jk7SFtn0-lPl",
        "outputId": "754325ff-d0c9-4b7a-dcf6-138a7b97bb37"
      },
      "execution_count": 22,
      "outputs": [
        {
          "output_type": "display_data",
          "data": {
            "text/plain": [
              "array([1, 1, 0, 1, 0])"
            ]
          },
          "metadata": {}
        }
      ]
    },
    {
      "cell_type": "markdown",
      "source": [
        "## 모델 저장 with Pickle"
      ],
      "metadata": {
        "id": "FOfZdc-U_50o"
      }
    },
    {
      "cell_type": "markdown",
      "source": [
        "### dump\n",
        "\n",
        "파이썬 객체를 파일에 저장\n",
        "\n",
        "- obj: 저장할 인스턴스\n",
        "- file: 인스턴스를 저장할 파일 (주로 pckl 또는 pkl 확장자를 가진 바이너리 파일)"
      ],
      "metadata": {
        "id": "KksnzM6f__mq"
      }
    },
    {
      "cell_type": "code",
      "source": [
        "import pickle\n",
        "with open('my_pipeline.pckl', 'wb') as f:\n",
        "  pickle.dump(imputer, f)\n",
        "  pickle.dump(scaler, f)\n",
        "  pickle.dump(model, f)"
      ],
      "metadata": {
        "id": "c-WWLHeD-wjt"
      },
      "execution_count": 23,
      "outputs": []
    },
    {
      "cell_type": "markdown",
      "source": [
        "### load\n",
        "저장한 인스턴스 불러오기"
      ],
      "metadata": {
        "id": "b9e_eo4WAclH"
      }
    },
    {
      "cell_type": "code",
      "source": [
        "with open('my_pipeline.pckl', 'rb') as f:\n",
        "  loaded_imputer = pickle.load(f)\n",
        "  loaded_scaler = pickle.load(f)\n",
        "  loaded_model = pickle.load(f)"
      ],
      "metadata": {
        "id": "R1F5Oo0-AZrQ"
      },
      "execution_count": 24,
      "outputs": []
    },
    {
      "cell_type": "code",
      "source": [
        "# tip: using dictionary\n",
        "my_pipeline_dict = {'imputer':imputer, 'scaler':scaler, 'model':model}\n",
        "with open('my_pipeline_dict.pckl', 'wb') as f:\n",
        "  pickle.dump(my_pipeline_dict, f)"
      ],
      "metadata": {
        "id": "rnUd5AxBAvRn"
      },
      "execution_count": 25,
      "outputs": []
    },
    {
      "cell_type": "code",
      "source": [],
      "metadata": {
        "id": "HWf2yiRLBNW5"
      },
      "execution_count": null,
      "outputs": []
    }
  ]
}