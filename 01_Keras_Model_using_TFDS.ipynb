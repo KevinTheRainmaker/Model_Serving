{
  "nbformat": 4,
  "nbformat_minor": 0,
  "metadata": {
    "colab": {
      "provenance": [],
      "authorship_tag": "ABX9TyOllmk4lerZh1I0uwVf0jZy",
      "include_colab_link": true
    },
    "kernelspec": {
      "name": "python3",
      "display_name": "Python 3"
    },
    "language_info": {
      "name": "python"
    }
  },
  "cells": [
    {
      "cell_type": "markdown",
      "metadata": {
        "id": "view-in-github",
        "colab_type": "text"
      },
      "source": [
        "<a href=\"https://colab.research.google.com/github/KevinTheRainmaker/TF_for_Use/blob/main/01_Keras_Model_using_TFDS.ipynb\" target=\"_parent\"><img src=\"https://colab.research.google.com/assets/colab-badge.svg\" alt=\"Open In Colab\"/></a>"
      ]
    },
    {
      "cell_type": "markdown",
      "source": [
        "# 케라스 모델에서 텐서플로우 공개 데이터셋 사용하기\n",
        "\n",
        "### TFDS란?\n",
        "> ***TFDS provides a collection of ready-to-use datasets for use with TensorFlow, Jax, and other Machine Learning frameworks.***\n",
        ">\n",
        "> \\- 텐서플로우 공식 가이드\n",
        "\n",
        "- 데이터셋을 사용하기 쉽게 제공하는 API\n",
        "- 데이터를 얻는 모든 전처리 단계를 손쉽게 적용 가능\n",
        "\n",
        "### 사용 가능한 데이터셋 종류\n",
        "- **오디오:** 음성 및 음악 데이터\n",
        "- **이미지:** 개-고양이 같은 간단한 데이터셋부터 당뇨망막변증 진단 등에 사용되는 고급 연구 데이터셋까지\n",
        "- **객체 탐지:** COCO, OpenImages 등\n",
        "- **Structured:** 타이타닉 데이터, 아마존 리뷰 등\n",
        "- **문서 요약:** CNN News, Daily Mail, 과학 논문, wikiHow 등\n",
        "- **텍스트:** iMDb 영화 리뷰, 자연어 질문 등\n",
        "- **번역:** 다양한 번역 모델 훈련 데이터셋\n",
        "- **비디오:** Moving MNIST, 스타크래프트 등"
      ],
      "metadata": {
        "id": "2x8DhiMqzYIn"
      }
    },
    {
      "cell_type": "markdown",
      "source": [
        "## 텐서플로우 데이터셋 시작하기"
      ],
      "metadata": {
        "id": "6gW8rhEbIeHK"
      }
    },
    {
      "cell_type": "markdown",
      "source": [
        "### TensorFlow Dataset"
      ],
      "metadata": {
        "id": "VYVAFKCtmH1K"
      }
    },
    {
      "cell_type": "code",
      "execution_count": null,
      "metadata": {
        "id": "lz4GKoCZzM4_"
      },
      "outputs": [],
      "source": [
        "!pip install -q tfds-nightly tensorflow"
      ]
    },
    {
      "cell_type": "code",
      "source": [
        "import tensorflow as tf\n",
        "import tensorflow_datasets as tfds\n",
        "print(tfds.__version__)"
      ],
      "metadata": {
        "colab": {
          "base_uri": "https://localhost:8080/"
        },
        "id": "hgC2FNMJIm64",
        "outputId": "7b0621f9-b679-4217-fde2-bf9bfa0328c6"
      },
      "execution_count": null,
      "outputs": [
        {
          "output_type": "stream",
          "name": "stdout",
          "text": [
            "4.8.0+nightly\n"
          ]
        }
      ]
    },
    {
      "cell_type": "code",
      "source": [
        "# 전체 목록\n",
        "# tfds.list_builders()"
      ],
      "metadata": {
        "id": "_HmoOsduLhHR"
      },
      "execution_count": null,
      "outputs": []
    },
    {
      "cell_type": "markdown",
      "source": [
        "### 데이터 로드하기"
      ],
      "metadata": {
        "id": "WUq8m0VbmMlE"
      }
    },
    {
      "cell_type": "code",
      "source": [
        "# Fashion-MNIST 데이터셋 load\n",
        "mnist_data = tfds.load('fashion_mnist')"
      ],
      "metadata": {
        "id": "9-aqML3VI_cB"
      },
      "execution_count": null,
      "outputs": []
    },
    {
      "cell_type": "code",
      "source": [
        "for split in mnist_data:\n",
        "  print(split, type(split))"
      ],
      "metadata": {
        "colab": {
          "base_uri": "https://localhost:8080/"
        },
        "id": "iyptjylZJrwV",
        "outputId": "50894851-6574-4369-c038-7af7c78e5b53"
      },
      "execution_count": null,
      "outputs": [
        {
          "output_type": "stream",
          "name": "stdout",
          "text": [
            "train <class 'str'>\n",
            "test <class 'str'>\n"
          ]
        }
      ]
    },
    {
      "cell_type": "code",
      "source": [
        "# 실제 데이터를 담음 split\n",
        "mnist_train = tfds.load(name='fashion_mnist', split='train')\n",
        "assert isinstance(mnist_train, tf.data.Dataset)\n",
        "print(type(mnist_train))"
      ],
      "metadata": {
        "colab": {
          "base_uri": "https://localhost:8080/"
        },
        "id": "gRV3XxF3KEez",
        "outputId": "36b78363-3a60-4aa4-c171-0d3f5d4bd5f0"
      },
      "execution_count": null,
      "outputs": [
        {
          "output_type": "stream",
          "name": "stdout",
          "text": [
            "<class 'tensorflow.python.data.ops.dataset_ops.PrefetchDataset'>\n"
          ]
        }
      ]
    },
    {
      "cell_type": "markdown",
      "source": [
        "PrefetchDataset을 얻을 수 있음"
      ],
      "metadata": {
        "id": "LMZrrLSQKoBr"
      }
    },
    {
      "cell_type": "code",
      "source": [
        "# Single sample\n",
        "train_ds = mnist_train.take(1)"
      ],
      "metadata": {
        "id": "t88dG_ONMMhY"
      },
      "execution_count": null,
      "outputs": []
    },
    {
      "cell_type": "code",
      "source": [
        "for item in train_ds:\n",
        "  print(type(item))\n",
        "  print(item.keys())"
      ],
      "metadata": {
        "colab": {
          "base_uri": "https://localhost:8080/"
        },
        "id": "YBW4BbpmKhr0",
        "outputId": "6b6abdda-b477-44ae-fb10-7548ef68cc8e"
      },
      "execution_count": null,
      "outputs": [
        {
          "output_type": "stream",
          "name": "stdout",
          "text": [
            "<class 'dict'>\n",
            "dict_keys(['image', 'label'])\n"
          ]
        }
      ]
    },
    {
      "cell_type": "markdown",
      "source": [
        "각 레코드의 타입은 dictionary이며, key 값은 image와 label임을 알 수 있다"
      ],
      "metadata": {
        "id": "TTaR6iYhLB7N"
      }
    },
    {
      "cell_type": "code",
      "source": [
        "for item in train_ds:\n",
        "  print(type(item['image']))\n",
        "  print(type(item['label']))  \n",
        "  print(tf.shape(item['image']))\n",
        "  print(item['label'])"
      ],
      "metadata": {
        "colab": {
          "base_uri": "https://localhost:8080/"
        },
        "id": "zgvFRSzSK4A0",
        "outputId": "89b3e0d0-6ab4-4bdd-c6b2-e6771154c013"
      },
      "execution_count": null,
      "outputs": [
        {
          "output_type": "stream",
          "name": "stdout",
          "text": [
            "<class 'tensorflow.python.framework.ops.EagerTensor'>\n",
            "<class 'tensorflow.python.framework.ops.EagerTensor'>\n",
            "tf.Tensor([28 28  1], shape=(3,), dtype=int32)\n",
            "tf.Tensor(2, shape=(), dtype=int64)\n"
          ]
        }
      ]
    },
    {
      "cell_type": "markdown",
      "source": [
        "이미지는 28 x 28 사이즈의 tf.Tensor 타입 배열\n",
        "\n",
        "레이블은 클래스 번호"
      ],
      "metadata": {
        "id": "y6ZCh3ZVNu5L"
      }
    },
    {
      "cell_type": "markdown",
      "source": [
        "### 좀더 자세한 데이터셋 정보 얻기"
      ],
      "metadata": {
        "id": "yZg2vvLiO3Er"
      }
    },
    {
      "cell_type": "code",
      "source": [
        "mnist_test, info = tfds.load(name='fashion_mnist', with_info='true')"
      ],
      "metadata": {
        "id": "NjFrJHVWL-ar"
      },
      "execution_count": null,
      "outputs": []
    },
    {
      "cell_type": "code",
      "source": [
        "print(info)"
      ],
      "metadata": {
        "colab": {
          "base_uri": "https://localhost:8080/"
        },
        "id": "B83zPsKcPCfq",
        "outputId": "e2763b29-999b-40a1-c09a-90927930ccc9"
      },
      "execution_count": null,
      "outputs": [
        {
          "output_type": "stream",
          "name": "stdout",
          "text": [
            "tfds.core.DatasetInfo(\n",
            "    name='fashion_mnist',\n",
            "    full_name='fashion_mnist/3.0.1',\n",
            "    description=\"\"\"\n",
            "    Fashion-MNIST is a dataset of Zalando's article images consisting of a training set of 60,000 examples and a test set of 10,000 examples. Each example is a 28x28 grayscale image, associated with a label from 10 classes.\n",
            "    \"\"\",\n",
            "    homepage='https://github.com/zalandoresearch/fashion-mnist',\n",
            "    data_path='/root/tensorflow_datasets/fashion_mnist/3.0.1',\n",
            "    file_format=tfrecord,\n",
            "    download_size=29.45 MiB,\n",
            "    dataset_size=36.42 MiB,\n",
            "    features=FeaturesDict({\n",
            "        'image': Image(shape=(28, 28, 1), dtype=uint8),\n",
            "        'label': ClassLabel(shape=(), dtype=int64, num_classes=10),\n",
            "    }),\n",
            "    supervised_keys=('image', 'label'),\n",
            "    disable_shuffling=False,\n",
            "    splits={\n",
            "        'test': <SplitInfo num_examples=10000, num_shards=1>,\n",
            "        'train': <SplitInfo num_examples=60000, num_shards=1>,\n",
            "    },\n",
            "    citation=\"\"\"@article{DBLP:journals/corr/abs-1708-07747,\n",
            "      author    = {Han Xiao and\n",
            "                   Kashif Rasul and\n",
            "                   Roland Vollgraf},\n",
            "      title     = {Fashion-MNIST: a Novel Image Dataset for Benchmarking Machine Learning\n",
            "                   Algorithms},\n",
            "      journal   = {CoRR},\n",
            "      volume    = {abs/1708.07747},\n",
            "      year      = {2017},\n",
            "      url       = {http://arxiv.org/abs/1708.07747},\n",
            "      archivePrefix = {arXiv},\n",
            "      eprint    = {1708.07747},\n",
            "      timestamp = {Mon, 13 Aug 2018 16:47:27 +0200},\n",
            "      biburl    = {https://dblp.org/rec/bib/journals/corr/abs-1708-07747},\n",
            "      bibsource = {dblp computer science bibliography, https://dblp.org}\n",
            "    }\"\"\",\n",
            ")\n"
          ]
        }
      ]
    },
    {
      "cell_type": "markdown",
      "source": [
        "## 케라스 분류 모델에서 텐서플로 데이터셋 사용하기"
      ],
      "metadata": {
        "id": "7RoCl3vDl_ew"
      }
    },
    {
      "cell_type": "code",
      "source": [
        "(train_data, test_data), info = tfds.load('horses_or_humans', split=['train','test'], as_supervised=True, with_info=True)"
      ],
      "metadata": {
        "id": "_rB4N2NhPF1n"
      },
      "execution_count": null,
      "outputs": []
    },
    {
      "cell_type": "code",
      "source": [
        "print(info)"
      ],
      "metadata": {
        "colab": {
          "base_uri": "https://localhost:8080/"
        },
        "id": "6GIzSuKZ8GdB",
        "outputId": "c96eae76-90e7-4ca2-8d92-a32614d3e8bc"
      },
      "execution_count": null,
      "outputs": [
        {
          "output_type": "stream",
          "name": "stdout",
          "text": [
            "tfds.core.DatasetInfo(\n",
            "    name='horses_or_humans',\n",
            "    full_name='horses_or_humans/3.0.0',\n",
            "    description=\"\"\"\n",
            "    A large set of images of horses and humans.\n",
            "    \"\"\",\n",
            "    homepage='http://laurencemoroney.com/horses-or-humans-dataset',\n",
            "    data_path='/root/tensorflow_datasets/horses_or_humans/3.0.0',\n",
            "    file_format=tfrecord,\n",
            "    download_size=153.59 MiB,\n",
            "    dataset_size=153.53 MiB,\n",
            "    features=FeaturesDict({\n",
            "        'image': Image(shape=(300, 300, 3), dtype=uint8),\n",
            "        'label': ClassLabel(shape=(), dtype=int64, num_classes=2),\n",
            "    }),\n",
            "    supervised_keys=('image', 'label'),\n",
            "    disable_shuffling=False,\n",
            "    splits={\n",
            "        'test': <SplitInfo num_examples=256, num_shards=1>,\n",
            "        'train': <SplitInfo num_examples=1027, num_shards=2>,\n",
            "    },\n",
            "    citation=\"\"\"@ONLINE {horses_or_humans,\n",
            "    author = \"Laurence Moroney\",\n",
            "    title = \"Horses or Humans Dataset\",\n",
            "    month = \"feb\",\n",
            "    year = \"2019\",\n",
            "    url = \"http://laurencemoroney.com/horses-or-humans-dataset\"\n",
            "    }\"\"\",\n",
            ")\n"
          ]
        }
      ]
    },
    {
      "cell_type": "markdown",
      "source": [
        "(300, 300, 3) 크기의 train image 1,027장과 test image 256장"
      ],
      "metadata": {
        "id": "Gv94v4KMuEBs"
      }
    },
    {
      "cell_type": "code",
      "source": [
        "train_batches = train_data.shuffle(100).batch(100)\n",
        "test_batches = test_data.batch(100)"
      ],
      "metadata": {
        "id": "KPX7msrkuCdW"
      },
      "execution_count": null,
      "outputs": []
    },
    {
      "cell_type": "code",
      "source": [
        "# Model Build\n",
        "import tf,keras.layers as layers\n",
        "model = tf.keras.models.Sequential([\n",
        "    layers.Conv2D(16, (3,3), activation='relu', input_shape=(300,300,3)),\n",
        "    layers.MaxPooling2D((2,2)),\n",
        "    layers.Conv2D(32, (3,3), activation='relu'),\n",
        "    layers.MaxPooling2D((2,2)),\n",
        "    layers.Conv2D(64, (3,3), activation='relu'),\n",
        "    layers.MaxPooling2D((2,2)),\n",
        "\n",
        "])"
      ],
      "metadata": {
        "id": "1SDhel8z9kM0"
      },
      "execution_count": null,
      "outputs": []
    },
    {
      "cell_type": "code",
      "source": [],
      "metadata": {
        "id": "9_IbOtrt923x"
      },
      "execution_count": null,
      "outputs": []
    }
  ]
}